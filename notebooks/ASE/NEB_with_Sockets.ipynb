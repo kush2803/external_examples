{
 "cells": [
  {
   "cell_type": "markdown",
   "metadata": {},
   "source": [
    "The use of sockets for transition state calculation using the Nudged Elastic Band (NEB) method can potentially half the calculation time. \n",
    "\n",
    "This is because after every iteration, there is an exchane of information between the calculator and the python code. \n",
    "With the use of sockets, the speed of this communication between the calculator and python/ase can be increased which helps in reducing the overall computational time. \n",
    "\n",
    "This is only useful for computers where the calculator use a different CPU than the python code during the simulation. ARCHER and Isambard are two machines where sockets can be used to get significant reduction in simulation time. HAWK will NOT have any advantage because it uses same CPUs for python as well as the calculator.\n",
    "\n",
    "To use the sockets, we begin normally, like we do in a regular NEB calculation. We define the initial and final geometry and create a list of images.\n"
   ]
  },
  {
   "cell_type": "code",
   "execution_count": null,
   "metadata": {},
   "outputs": [],
   "source": [
    "from ase.io import read, write\n",
    "initial = read ('initial.traj')\n",
    "final = read ('final.traj')\n",
    "images = [initial.copy() for i in range(6)] + [final]"
   ]
  },
  {
   "cell_type": "markdown",
   "metadata": {},
   "source": [
    "Next we interpolate the path to create the first guess pathway. \n",
    "\n",
    "To use the sockets effectively, we need to use the \"Single Calculator\". But this calculator does not have idpp interpolation built-in. \n",
    "\n",
    "So in oder to use the idpp interpolation, we use the regular NEB to generate the interpolated path. "
   ]
  },
  {
   "cell_type": "code",
   "execution_count": null,
   "metadata": {},
   "outputs": [],
   "source": [
    "from ase.neb import NEB\n",
    "neb = NEB(images)\n",
    "neb.interpolate('idpp')\n",
    "# To use linear interpolation, users can replace idpp with linear. Or they can set the interpolation on the images later in the single calculator setting and skip this entire block of code."
   ]
  },
  {
   "cell_type": "markdown",
   "metadata": {},
   "source": [
    "Next we create a constrain to apply to all structures (if there is any):"
   ]
  },
  {
   "cell_type": "code",
   "execution_count": null,
   "metadata": {},
   "outputs": [],
   "source": [
    "from ase.constraints import FixAtoms\n",
    "constraint = None"
   ]
  },
  {
   "cell_type": "markdown",
   "metadata": {},
   "source": [
    "Then we define the calculator. We do this by creating a function. \n",
    "We use the carmm library wich automatically returns the aims and sockets calculator. \n",
    "\n",
    "The library calls the calculator first, and then we set parameters on the calculator based on our preference.\n",
    "\n",
    "Finally, the aims calculator is returned with the necessary sockets settings. "
   ]
  },
  {
   "cell_type": "code",
   "execution_count": null,
   "metadata": {},
   "outputs": [],
   "source": [
    "def my_calc():\n",
    "\tfrom carmm.run.aims_calculator import get_aims_and_sockets_calculator\n",
    "\tsockets_calc, fhi_calc = get_aims_and_sockets_calculator(dimensions=2)\n",
    "\tfhi_calc.set(xc='pbe', \n",
    "\t\t\tk_grid='5 5 4',\n",
    "\t\t\tspin='none',\n",
    "\t\t\trelativistic=('atomic_zora','scalar'),\n",
    "\t\t\tcompute_forces=\"true\",\n",
    "\t\t\tfinal_forces_cleaned='true',\n",
    "\treturn sockets_calc"
   ]
  },
  {
   "cell_type": "markdown",
   "metadata": {},
   "source": [
    "Now we defined the NEB with the single calculator setting. And then finally run the optimizer within the calc function.\n",
    "\n",
    "Running the optimizer within the \"with\" loop is essential for the calculator and python to effectively communicate over the socket."
   ]
  },
  {
   "cell_type": "code",
   "execution_count": null,
   "metadata": {},
   "outputs": [],
   "source": [
    "from ase.neb import SingleCalculatorNEB as NEB\n",
    "with my_calc() as calc:\n",
    "\tneb = NEB(images)\n",
    "\t#neb.interpolate() #this can be used to specify linear method of interpolation. Note that idpp method cannot be specified here.\n",
    "\tfor image in images:\n",
    "\t\timage.set_calculator(calc)\n",
    "\t\timage.set_constraint(constraint)\n",
    "\n",
    "\t# Relax the NEB path:\n",
    "\tfrom ase.optimize import FIRE\n",
    "\tminimizer = FIRE(neb, trajectory='neb.traj')\n",
    "\tminimizer.run(fmax=0.05)"
   ]
  }
 ],
 "metadata": {
  "kernelspec": {
   "display_name": "Python 3",
   "language": "python",
   "name": "python3"
  },
  "language_info": {
   "codemirror_mode": {
    "name": "ipython",
    "version": 3
   },
   "file_extension": ".py",
   "mimetype": "text/x-python",
   "name": "python",
   "nbconvert_exporter": "python",
   "pygments_lexer": "ipython3",
   "version": "3.7.4"
  }
 },
 "nbformat": 4,
 "nbformat_minor": 2
}
